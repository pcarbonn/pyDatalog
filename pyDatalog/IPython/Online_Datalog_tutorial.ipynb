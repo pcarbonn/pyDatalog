{
 "metadata": {
  "name": ""
 },
 "nbformat": 3,
 "nbformat_minor": 0,
 "worksheets": [
  {
   "cells": [
    {
     "cell_type": "markdown",
     "metadata": {},
     "source": [
      "Online datalog tutorial"
     ]
    },
    {
     "cell_type": "markdown",
     "metadata": {},
     "source": [
      "pyDatalog is a powerful language with very few syntactic elements, mostly coming from Python : this makes it easy to learn !  In this tutorial, we'll review:\n",
      "\n",
      "* Variables and expressions\n",
      "* Loops\n",
      "* Logic Functions and dictionaries\n",
      "* Aggregate functions\n",
      "* Literals and sets\n",
      "\n",
      "We'll see that pyDatalog statements are declarative : they describe the result we want, leaving to the computer the task of finding the appropriate solutions.  We'll start with trivial problems to show the basics of the language, and progressively address more complex problems, to show how simply they can be expressed. We'll finish with an efficient solution to the 8-queen problem.\n",
      "\n",
      "The first step is to import pyDatalog:"
     ]
    },
    {
     "cell_type": "code",
     "collapsed": false,
     "input": [
      "from pyDatalog import pyDatalog"
     ],
     "language": "python",
     "metadata": {},
     "outputs": [
      {
       "output_type": "stream",
       "stream": "stdout",
       "text": [
        "pyDatalog version 0.14.0\n"
       ]
      }
     ],
     "prompt_number": 1
    },
    {
     "cell_type": "markdown",
     "metadata": {},
     "source": [
      "<h2>Variables and expressions</h2>\n",
      "\n",
      "The next step is to declare the variables we'll use.  They must start with an upper-case letter:"
     ]
    },
    {
     "cell_type": "code",
     "collapsed": false,
     "input": [
      "pyDatalog.create_terms('X,Y')"
     ],
     "language": "python",
     "metadata": {},
     "outputs": [],
     "prompt_number": 2
    },
    {
     "cell_type": "markdown",
     "metadata": {},
     "source": [
      "Variables appear in logic queries, which return a printable result"
     ]
    },
    {
     "cell_type": "code",
     "collapsed": false,
     "input": [
      "# give me all the X so that X is 1\n",
      "print(X==1)"
     ],
     "language": "python",
     "metadata": {},
     "outputs": [
      {
       "output_type": "stream",
       "stream": "stdout",
       "text": [
        "X\n",
        "-\n",
        "1\n"
       ]
      }
     ],
     "prompt_number": 3
    },
    {
     "cell_type": "markdown",
     "metadata": {},
     "source": [
      "Queries can contain several variables and several criteria ('<scope>&</scope>' is read 'and'):"
     ]
    },
    {
     "cell_type": "code",
     "collapsed": false,
     "input": [
      "# give me all the X and Y so that X is True and Y is False\n",
      "print((X==True) & (Y==False))"
     ],
     "language": "python",
     "metadata": {},
     "outputs": [
      {
       "output_type": "stream",
       "stream": "stdout",
       "text": [
        "X    | Y    \n",
        "-----|------\n",
        "True | False\n"
       ]
      }
     ],
     "prompt_number": 4
    },
    {
     "cell_type": "markdown",
     "metadata": {},
     "source": [
      "Note the parenthesis around each equality: they are required to avoid confusion with ```(X==(True & Y)==False)```."
     ]
    },
    {
     "cell_type": "markdown",
     "metadata": {},
     "source": [
      "Some queries return an empty result :"
     ]
    },
    {
     "cell_type": "code",
     "collapsed": false,
     "input": [
      "# give me all the X that are both True and False\n",
      "print((X==True) & (X==False))"
     ],
     "language": "python",
     "metadata": {},
     "outputs": [
      {
       "output_type": "stream",
       "stream": "stdout",
       "text": [
        "[]\n"
       ]
      }
     ],
     "prompt_number": 5
    },
    {
     "cell_type": "markdown",
     "metadata": {},
     "source": [
      "Besides numbers and booleans, variables can represent strings.  Furthermore, queries can contain python expressions:"
     ]
    },
    {
     "cell_type": "code",
     "collapsed": false,
     "input": [
      "# give me all the X and Y so that X is a name and Y is 'Hello ' followed by the first letter of X\n",
      "print((X==raw_input('Please enter your name : ')) & (Y=='Hello ' + X[0]))"
     ],
     "language": "python",
     "metadata": {},
     "outputs": [
      {
       "name": "stdout",
       "output_type": "stream",
       "stream": "stdout",
       "text": [
        "Please enter your name : World\n"
       ]
      },
      {
       "output_type": "stream",
       "stream": "stdout",
       "text": [
        "X     | Y      \n",
        "------|--------\n",
        "World | Hello W\n"
       ]
      }
     ],
     "prompt_number": 6
    },
    {
     "cell_type": "markdown",
     "metadata": {},
     "source": [
      "In the second equality, X is said to be bound by the first equality, i.e. the first equality gives it a value, making it possible to evaluate the expression in the second equality.\n",
      "\n",
      "pyDatalog has no symbolic resolver ! If a variable in an expression is not bound, the query returns an empty solution :"
     ]
    },
    {
     "cell_type": "code",
     "collapsed": false,
     "input": [
      "# give me all the X and Y so that Y is 1 and Y is X+1\n",
      "print((Y==1) & (Y==X+1))"
     ],
     "language": "python",
     "metadata": {},
     "outputs": [
      {
       "output_type": "stream",
       "stream": "stdout",
       "text": [
        "[]\n"
       ]
      }
     ],
     "prompt_number": 7
    },
    {
     "cell_type": "markdown",
     "metadata": {},
     "source": [
      "Variables can also represent (nested) [tuples](http://docs.python.org/2/tutorial/datastructures.html#tuples-and-sequences), which can participate in an expression and be [sliced](http://stackoverflow.com/questions/509211/pythons-slice-notation)."
     ]
    },
    {
     "cell_type": "code",
     "collapsed": false,
     "input": [
      "print((X==(1,2)+(3,)) & (Y==X[2]))"
     ],
     "language": "python",
     "metadata": {},
     "outputs": [
      {
       "output_type": "stream",
       "stream": "stdout",
       "text": [
        "X         | Y\n",
        "----------|--\n",
        "(1, 2, 3) | 3\n"
       ]
      }
     ],
     "prompt_number": 8
    },
    {
     "cell_type": "markdown",
     "metadata": {},
     "source": [
      "To use your own functions in logic expressions, define them in Python, then ask pyDatalog to create logical terms for them:"
     ]
    },
    {
     "cell_type": "code",
     "collapsed": false,
     "input": [
      "def twice(a):\n",
      "    return a+a\n",
      "\n",
      "pyDatalog.create_terms('twice')\n",
      "print((X==1) & (Y==twice(X)))"
     ],
     "language": "python",
     "metadata": {},
     "outputs": [
      {
       "output_type": "stream",
       "stream": "stdout",
       "text": [
        "X | Y\n",
        "--|--\n",
        "1 | 2\n"
       ]
      }
     ],
     "prompt_number": 9
    },
    {
     "cell_type": "markdown",
     "metadata": {},
     "source": [
      "Note that X must be bound before calling the function.\n",
      "\n",
      "Similarly, pyDatalog variables can be passed to functions in the Python standard library:"
     ]
    },
    {
     "cell_type": "code",
     "collapsed": false,
     "input": [
      "# give me all the X and Y so that X is 2 and Y is the square root of X\n",
      "import math\n",
      "pyDatalog.create_terms('math')\n",
      "print(X==2) & (Y==math.sqrt(X))"
     ],
     "language": "python",
     "metadata": {},
     "outputs": [
      {
       "output_type": "stream",
       "stream": "stdout",
       "text": [
        "X | Y            \n",
        "--|--------------\n",
        "2 | 1.41421356237\n"
       ]
      }
     ],
     "prompt_number": 10
    },
    {
     "cell_type": "markdown",
     "metadata": {},
     "source": [
      "This way, pyDatalog has access to [an extensive toolbox](http://docs.python.org/2/library/) !\n"
     ]
    },
    {
     "cell_type": "markdown",
     "metadata": {},
     "source": [
      "<h2>Loops</h2>\n",
      "\n",
      "Let's first declare the Variables we'll need:"
     ]
    },
    {
     "cell_type": "code",
     "collapsed": false,
     "input": [
      "from pyDatalog import pyDatalog\n",
      "pyDatalog.create_terms('X,Y,Z')"
     ],
     "language": "python",
     "metadata": {},
     "outputs": [],
     "prompt_number": 11
    },
    {
     "cell_type": "markdown",
     "metadata": {},
     "source": [
      "A loop can be created by using the ```.in()``` method (we'll see that there are other ways to create loops later):"
     ]
    },
    {
     "cell_type": "code",
     "collapsed": false,
     "input": [
      "# give me all the X so that X is in the range 0..4\n",
      "print(X.in_((0,1,2,3,4)))\n",
      "\n",
      "print\n",
      "\n",
      "# here is the procedural equivalent\n",
      "for x in range(5):\n",
      "    print x"
     ],
     "language": "python",
     "metadata": {},
     "outputs": [
      {
       "output_type": "stream",
       "stream": "stdout",
       "text": [
        "X\n",
        "-\n",
        "0\n",
        "1\n",
        "3\n",
        "4\n",
        "2\n",
        "\n",
        "0\n",
        "1\n",
        "2\n",
        "3\n",
        "4\n"
       ]
      }
     ],
     "prompt_number": 12
    },
    {
     "cell_type": "markdown",
     "metadata": {},
     "source": [
      "The result of a query is a set of its possible solutions, in random order.  Each solution has 1 value for each variable in the query.  The ```.data``` attribute gives access to the result."
     ]
    },
    {
     "cell_type": "code",
     "collapsed": false,
     "input": [
      "print(X.in_(range(5)).data)\n",
      "print(X.in_(range(5)) == set([(0,), (1,), (2,), (3,), (4,)]))"
     ],
     "language": "python",
     "metadata": {},
     "outputs": [
      {
       "output_type": "stream",
       "stream": "stdout",
       "text": [
        "[(0,), (2,), (1,), (4,), (3,)]\n",
        "True\n"
       ]
      }
     ],
     "prompt_number": 13
    },
    {
     "cell_type": "markdown",
     "metadata": {},
     "source": [
      "Similarly, after a query, a variable contains a tuple of all its possible values.  They can be accessed with these methods :"
     ]
    },
    {
     "cell_type": "code",
     "collapsed": false,
     "input": [
      "print(\"Data : \",X.data)\n",
      "print(\"First value : \",  X.v())\n",
      "# below, '>=' is a variable extraction operator\n",
      "print(\"Extraction of first value of X: \", X.in_(range(5)) >= X)"
     ],
     "language": "python",
     "metadata": {},
     "outputs": [
      {
       "output_type": "stream",
       "stream": "stdout",
       "text": [
        "('Data : ', [3, 1, 2, 4, 0])\n",
        "('First value : ', 4)\n",
        "('Extraction of first value of X: ', 4)\n"
       ]
      }
     ],
     "prompt_number": 14
    },
    {
     "cell_type": "markdown",
     "metadata": {},
     "source": [
      "The '&' operator can be used to filter the result."
     ]
    },
    {
     "cell_type": "code",
     "collapsed": false,
     "input": [
      "# give me all X in range 0..4 that are below 2\n",
      "print(X.in_(range(5)) & (X<2))"
     ],
     "language": "python",
     "metadata": {},
     "outputs": [
      {
       "output_type": "stream",
       "stream": "stdout",
       "text": [
        "X\n",
        "-\n",
        "1\n",
        "0\n"
       ]
      }
     ],
     "prompt_number": 15
    },
    {
     "cell_type": "markdown",
     "metadata": {},
     "source": [
      "Loops can easily be nested.  Indentation helps reading them :"
     ]
    },
    {
     "cell_type": "code",
     "collapsed": false,
     "input": [
      "# give me all X, Y and Z so that X and Y are in 0..4, Z is their sum, and Z is below 3\n",
      "print(X.in_(range(5)) &\n",
      "          Y.in_(range(5)) &\n",
      "              (Z==X+Y) &\n",
      "              (Z<3))"
     ],
     "language": "python",
     "metadata": {},
     "outputs": [
      {
       "output_type": "stream",
       "stream": "stdout",
       "text": [
        "X | Y | Z\n",
        "--|---|--\n",
        "1 | 1 | 2\n",
        "0 | 1 | 1\n",
        "1 | 0 | 1\n",
        "0 | 2 | 2\n",
        "2 | 0 | 2\n",
        "0 | 0 | 0\n"
       ]
      }
     ],
     "prompt_number": 16
    },
    {
     "cell_type": "markdown",
     "metadata": {},
     "source": [
      "<h2>Logic Functions and dictionnaries</h2>\n",
      "As an example, we'll calculate the net salary of employee foo and bar."
     ]
    },
    {
     "cell_type": "code",
     "collapsed": false,
     "input": [
      "from pyDatalog import pyDatalog\n",
      "pyDatalog.create_terms('X,Y,Z, salary, tax_rate, tax_rate_for_salary_above, net_salary')"
     ],
     "language": "python",
     "metadata": {},
     "outputs": [],
     "prompt_number": 17
    },
    {
     "cell_type": "markdown",
     "metadata": {},
     "source": [
      "Notice that function names, such as ```salary```, starts with a lower case.\n",
      "\n",
      "A function defines one value for a given argument. It is similar to a python dictionary."
     ]
    },
    {
     "cell_type": "code",
     "collapsed": false,
     "input": [
      "salary['foo'] = 60\n",
      "salary['bar'] = 110\n",
      "\n",
      "# Python equivalent\n",
      "_salary = dict()\n",
      "_salary['foo'] = 60\n",
      "_salary['bar'] = 110"
     ],
     "language": "python",
     "metadata": {},
     "outputs": [],
     "prompt_number": 18
    },
    {
     "cell_type": "markdown",
     "metadata": {},
     "source": [
      "A function can be queried."
     ]
    },
    {
     "cell_type": "code",
     "collapsed": false,
     "input": [
      "# give me all the X and Y so that the salary of X is Y\n",
      "print(salary[X]==Y)\n",
      "print\n",
      "# python equivalent\n",
      "print(_salary.items())"
     ],
     "language": "python",
     "metadata": {},
     "outputs": [
      {
       "output_type": "stream",
       "stream": "stdout",
       "text": [
        "X   | Y  \n",
        "----|----\n",
        "bar | 110\n",
        "foo | 60 \n",
        "\n",
        "[('foo', 60), ('bar', 110)]\n"
       ]
      }
     ],
     "prompt_number": 19
    },
    {
     "cell_type": "markdown",
     "metadata": {},
     "source": [
      "A function has only one value for a given argument."
     ]
    },
    {
     "cell_type": "code",
     "collapsed": false,
     "input": [
      "# foo now has a salary of 70\n",
      "salary['foo'] = 70\n",
      "print(salary['foo']==Y)\n",
      "print\n",
      "\n",
      "# Python equivalent\n",
      "_salary['foo'] = 70\n",
      "print('foo --> ' + str(_salary['foo']))"
     ],
     "language": "python",
     "metadata": {},
     "outputs": [
      {
       "output_type": "stream",
       "stream": "stdout",
       "text": [
        "Y \n",
        "--\n",
        "70\n",
        "\n",
        "foo --> 70\n"
       ]
      }
     ],
     "prompt_number": 20
    },
    {
     "cell_type": "markdown",
     "metadata": {},
     "source": [
      "A function can also be queried by value.  The following statement is shorter than its Python equivalent :"
     ]
    },
    {
     "cell_type": "code",
     "collapsed": false,
     "input": [
      "# give me all the X that have a salary of 110\n",
      "print(salary[X]==110)\n",
      "print\n",
      "\n",
      "# procedural equivalent in python\n",
      "for i, j in _salary.items():\n",
      "    if j==110:\n",
      "        print i, '-->', j"
     ],
     "language": "python",
     "metadata": {},
     "outputs": [
      {
       "output_type": "stream",
       "stream": "stdout",
       "text": [
        "X  \n",
        "---\n",
        "bar\n",
        "\n",
        "bar --> 110\n"
       ]
      }
     ],
     "prompt_number": 21
    },
    {
     "cell_type": "markdown",
     "metadata": {},
     "source": [
      "Notice that there is a implicit loop in the query.\n",
      "\n",
      "A query can test the negation of a criteria."
     ]
    },
    {
     "cell_type": "code",
     "collapsed": false,
     "input": [
      "print((salary[X]==Y) & ~(Y==110))"
     ],
     "language": "python",
     "metadata": {},
     "outputs": [
      {
       "output_type": "stream",
       "stream": "stdout",
       "text": [
        "X   | Y \n",
        "----|---\n",
        "foo | 70\n"
       ]
      }
     ],
     "prompt_number": 22
    },
    {
     "cell_type": "markdown",
     "metadata": {},
     "source": [
      "Let's now define a global tax rate. We'll use ```None``` for the function argument:"
     ]
    },
    {
     "cell_type": "code",
     "collapsed": false,
     "input": [
      "# the standard tax rate is 33%\n",
      "+(tax_rate[None]==0.33)"
     ],
     "language": "python",
     "metadata": {},
     "outputs": [],
     "prompt_number": 23
    },
    {
     "cell_type": "markdown",
     "metadata": {},
     "source": [
      "A function can be called in a formula :"
     ]
    },
    {
     "cell_type": "code",
     "collapsed": false,
     "input": [
      "# give me the net salary for all X\n",
      "print((Z==salary[X]*(1-tax_rate[None])))"
     ],
     "language": "python",
     "metadata": {},
     "outputs": [
      {
       "output_type": "stream",
       "stream": "stdout",
       "text": [
        "X   | Z   \n",
        "----|-----\n",
        "bar | 73.7\n",
        "foo | 46.9\n"
       ]
      }
     ],
     "prompt_number": 24
    },
    {
     "cell_type": "markdown",
     "metadata": {},
     "source": [
      "In this case, X is bound by ```salary[X]```, so the expression can be evaluated.\n",
      "\n",
      "A function can also be defined by a clause. Here is a simple example:"
     ]
    },
    {
     "cell_type": "code",
     "collapsed": false,
     "input": [
      "# the net salary of X is Y if Y is the salary of X, reduced by the tax rate\n",
      "net_salary[X] = salary[X]*(1-tax_rate[None])\n",
      "print"
     ],
     "language": "python",
     "metadata": {},
     "outputs": [
      {
       "output_type": "stream",
       "stream": "stdout",
       "text": [
        "\n"
       ]
      }
     ],
     "prompt_number": 25
    },
    {
     "cell_type": "markdown",
     "metadata": {},
     "source": [
      "The '```<=```' is the key token in the statement above : it is read 'if'."
     ]
    },
    {
     "cell_type": "code",
     "collapsed": false,
     "input": [
      "# give me all the X and Y so that Y is the net salary of X\n",
      "print(net_salary[X]==Y)\n",
      "print\n",
      "\n",
      "# procedural equivalent in Python\n",
      "for i,j in _salary.items():\n",
      "    k = j*(1-0.33)\n",
      "    print i, k"
     ],
     "language": "python",
     "metadata": {},
     "outputs": [
      {
       "output_type": "stream",
       "stream": "stdout",
       "text": [
        "X   | Y   \n",
        "----|-----\n",
        "foo | 46.9\n",
        "bar | 73.7\n",
        "\n",
        "foo 46.9\n",
        "bar 73.7\n"
       ]
      }
     ],
     "prompt_number": 26
    },
    {
     "cell_type": "markdown",
     "metadata": {},
     "source": [
      "Again, such a function can be queried by value.  As an excercice, you are invited to write the procedural equivalent of these queries."
     ]
    },
    {
     "cell_type": "code",
     "collapsed": false,
     "input": [
      "# give me the net salary of foo\n",
      "print(net_salary['foo']==Y)\n",
      "print\n",
      "print(net_salary[Y]<50)"
     ],
     "language": "python",
     "metadata": {},
     "outputs": [
      {
       "output_type": "stream",
       "stream": "stdout",
       "text": [
        "Y   \n",
        "----\n",
        "46.9\n",
        "\n",
        "Y  \n",
        "---\n",
        "foo\n"
       ]
      }
     ],
     "prompt_number": 27
    },
    {
     "cell_type": "markdown",
     "metadata": {},
     "source": [
      "Let's now define a progressive tax system: the tax rate is 33 % by default, but 50% for salaries above 100."
     ]
    },
    {
     "cell_type": "code",
     "collapsed": false,
     "input": [
      "# the tax rate for salaries above 0 is 33%, and above 100 is 50 %\n",
      "(tax_rate_for_salary_above[X] == 0.33) <= (0 <= X)\n",
      "(tax_rate_for_salary_above[X] == 0.50) <= (100 <= X)\n",
      "print(tax_rate_for_salary_above[70]==Y)\n",
      "print\n",
      "print(tax_rate_for_salary_above[150]==Y)"
     ],
     "language": "python",
     "metadata": {},
     "outputs": [
      {
       "output_type": "stream",
       "stream": "stdout",
       "text": [
        "Y   \n",
        "----\n",
        "0.33\n",
        "\n",
        "Y  \n",
        "---\n",
        "0.5\n"
       ]
      }
     ],
     "prompt_number": 28
    },
    {
     "cell_type": "markdown",
     "metadata": {},
     "source": [
      "Here, the most general definition of the function is given first.  When searching for possible answers, pyDatalog begins with the last rule defined, i.e. the more specific, and stops as soon as a valid answer is found for the function. So, even though the 2 rules seem to apply for a salary of 150, the second one is actually used to obtain 50 %\n",
      "\n",
      "Let's now redefine net salary.  Before we do, we need to retract our initial definition:"
     ]
    },
    {
     "cell_type": "code",
     "collapsed": false,
     "input": [
      "# retract our previous definition of net_salary\n",
      "del net_salary[X]"
     ],
     "language": "python",
     "metadata": {},
     "outputs": [],
     "prompt_number": 29
    },
    {
     "cell_type": "markdown",
     "metadata": {},
     "source": [
      "Here is the new definition;"
     ]
    },
    {
     "cell_type": "code",
     "collapsed": false,
     "input": [
      "net_salary[X] = salary[X]*(1-tax_rate_for_salary_above[salary[X]])\n",
      "# give me all X and Y so that Y is the net salary of X\n",
      "print(net_salary[X]==Y)"
     ],
     "language": "python",
     "metadata": {},
     "outputs": [
      {
       "output_type": "stream",
       "stream": "stdout",
       "text": [
        "X   | Y   \n",
        "----|-----\n",
        "bar | 55.0\n",
        "foo | 46.9\n"
       ]
      }
     ],
     "prompt_number": 30
    },
    {
     "cell_type": "markdown",
     "metadata": {},
     "source": [
      "Please note that we used ```f[X]=<expr>``` above, as a shorter notation for ```(f[X]==Y) <= (Y==expr)```"
     ]
    },
    {
     "cell_type": "markdown",
     "metadata": {},
     "source": [
      "This short notation, together with the fact that functions can be defined in any order, makes writing a pyDatalog program as easy as creating a spreadsheet.\n",
      "\n",
      "To illustrate the point, this definition of Factorial cannot be any clear !"
     ]
    },
    {
     "cell_type": "code",
     "collapsed": false,
     "input": [
      "pyDatalog.create_terms('factorial, N')\n",
      "\n",
      "factorial[N] = N*factorial[N-1]\n",
      "factorial[1] = 1\n",
      "\n",
      "print(factorial[3]==N)"
     ],
     "language": "python",
     "metadata": {},
     "outputs": [
      {
       "output_type": "stream",
       "stream": "stdout",
       "text": [
        "N\n",
        "-\n",
        "6\n"
       ]
      }
     ],
     "prompt_number": 31
    },
    {
     "cell_type": "markdown",
     "metadata": {},
     "source": [
      "<h2>Aggregate functions</h2>\n",
      "Aggregate functions are a special type of function.  Let's first create the data we need to illustrate them."
     ]
    },
    {
     "cell_type": "code",
     "collapsed": false,
     "input": [
      "from pyDatalog import pyDatalog\n",
      "pyDatalog.create_terms('X,Y,manager, count_of_direct_reports')"
     ],
     "language": "python",
     "metadata": {},
     "outputs": [],
     "prompt_number": 32
    },
    {
     "cell_type": "code",
     "collapsed": false,
     "input": [
      "# the manager of Mary is John\n",
      "+(manager['Mary'] == 'John')\n",
      "+(manager['Sam']  == 'Mary')\n",
      "+(manager['Tom']  == 'Mary')"
     ],
     "language": "python",
     "metadata": {},
     "outputs": [],
     "prompt_number": 33
    },
    {
     "cell_type": "markdown",
     "metadata": {},
     "source": [
      "A basic aggregation is to count the number of results, using <code>len_</code>."
     ]
    },
    {
     "cell_type": "code",
     "collapsed": false,
     "input": [
      "(count_of_direct_reports[X]==len_(Y)) <= (manager[Y]==X)\n",
      "print(count_of_direct_reports['Mary']==Y)"
     ],
     "language": "python",
     "metadata": {},
     "outputs": [
      {
       "output_type": "stream",
       "stream": "stdout",
       "text": [
        "Y\n",
        "-\n",
        "2\n"
       ]
      }
     ],
     "prompt_number": 34
    },
    {
     "cell_type": "markdown",
     "metadata": {},
     "source": [
      "pyDatalog searches all possible solutions for ```manager['Mary']==Y```, then counts the number of Y.\n",
      "\n",
      "The aggregate functions are:\n",
      "\n",
      "* __len\\___ <code>(P[X]==len_(Y)) <= body</code> : P[X] is the count of values of Y (associated to X by the body of the clause)\n",
      "* __sum\\___ <code>(P[X]==sum_(Y, for_each=Z)) <= body</code> : P[X] is the sum of Y for each Z. (Z is used to distinguish possibly identical Y values)\n",
      "* __min\\___, __max\\___ <code>(P[X]==min_(Y, order_by=Z)) <= body</code> : P[X] is the minimum (or maximum) of Y sorted by Z.\n",
      "* __tuple\\___ <code>(P[X]==tuple_(Y, order_by=Z)) <= body</code> : P[X] is a tuple containing all values of Y sorted by Z.\n",
      "* __concat\\___ <code>(P[X]==concat_(Y, order_by=Z, sep=',')) <= body</code> : same as 'sum' but for string. The strings are sorted by Z, and separated by ','.\n",
      "* __rank\\___ <code>(P[X]==rank_(for_each=Y, order_by=Z)) <= body</code> : P[X] is the sequence number of X in the list of Y values when the list is sorted by Z.\n",
      "* __running\\_sum\\___  <code>(P[X]==running\\_sum\\_(N, for_each=Y, order_by=Z)) <= body</code> : P[X] is the sum of  the values of N, for each Y that are before or equal to X when Y's are sorted by Z.\n"
     ]
    },
    {
     "cell_type": "markdown",
     "metadata": {},
     "source": [
      "<h2>Literals and sets</h2>\n",
      "Just as pyDatalog functions behave like Python dictionaries, pyDatalog literals behave like Python sets."
     ]
    },
    {
     "cell_type": "code",
     "collapsed": false,
     "input": [
      "from pyDatalog import pyDatalog\n",
      "pyDatalog.create_terms('X,Y,Z, works_in, department_size, manager, indirect_manager, count_of_indirect_reports')"
     ],
     "language": "python",
     "metadata": {},
     "outputs": [],
     "prompt_number": 35
    },
    {
     "cell_type": "markdown",
     "metadata": {},
     "source": [
      "Here is how you add facts to the set."
     ]
    },
    {
     "cell_type": "code",
     "collapsed": false,
     "input": [
      "# Mary works in Production\n",
      "+ works_in('Mary', 'Production')\n",
      "+ works_in('Sam',  'Marketing')\n",
      "\n",
      "+ works_in('John', 'Production')\n",
      "+ works_in('John', 'Marketing')\n",
      "\n",
      "_works_in = set()\n",
      "_works_in.add(('Mary', 'Production'))\n",
      "_works_in.add(('Sam',  'Marketing'))\n",
      "_works_in.add(('John', 'Production'))\n",
      "_works_in.add(('John', 'Marketing'))"
     ],
     "language": "python",
     "metadata": {},
     "outputs": [],
     "prompt_number": 36
    },
    {
     "cell_type": "markdown",
     "metadata": {},
     "source": [
      "Again, literals can be queried by value, in a way that is shorter than their Python equivalent."
     ]
    },
    {
     "cell_type": "code",
     "collapsed": false,
     "input": [
      "# give me all the X that work in Marketing\n",
      "print(works_in(X,  'Marketing'))\n",
      "print\n",
      "\n",
      "# procedural equivalent in Python\n",
      "for i in _works_in:\n",
      "    if i[1]=='Marketing':\n",
      "        print i[0]"
     ],
     "language": "python",
     "metadata": {},
     "outputs": [
      {
       "output_type": "stream",
       "stream": "stdout",
       "text": [
        "X   \n",
        "----\n",
        "John\n",
        "Sam \n",
        "\n",
        "Sam\n",
        "John\n"
       ]
      }
     ],
     "prompt_number": 37
    },
    {
     "cell_type": "markdown",
     "metadata": {},
     "source": [
      "Notice again that there is an implicit loop in the query.\n",
      "\n",
      "Literals can also be defined by clauses."
     ]
    },
    {
     "cell_type": "code",
     "collapsed": false,
     "input": [
      "# one of the indirect manager of X is Y, if the (direct) manager of X is Y\n",
      "indirect_manager(X,Y) <= (manager[X] == Y)\n",
      "# another indirect manager of X is Y, if there is a Z so that the manager of X is Z, \n",
      "#   and an indirect manager of Z is Y\n",
      "indirect_manager(X,Y) <= (manager[X] == Z) & indirect_manager(Z,Y)\n",
      "print(indirect_manager('Sam',X))"
     ],
     "language": "python",
     "metadata": {},
     "outputs": [
      {
       "output_type": "stream",
       "stream": "stdout",
       "text": [
        "X   \n",
        "----\n",
        "Mary\n",
        "John\n"
       ]
      }
     ],
     "prompt_number": 38
    },
    {
     "cell_type": "markdown",
     "metadata": {},
     "source": [
      "Notice that the use of 2 separate clauses implements an implicit 'or'.\n",
      "\n",
      "When resolving queries, pyDatalog remembers intermediate results, by a process called [memoization](https://en.wikipedia.org/wiki/Memoization).  This makes resolution faster, but it also helps deal with infinite loops !"
     ]
    },
    {
     "cell_type": "code",
     "collapsed": false,
     "input": [
      "# the manager of John is Mary (whose manager is John !)\n",
      "manager['John'] = 'Mary'\n",
      "\n",
      "print(indirect_manager('John',X))"
     ],
     "language": "python",
     "metadata": {},
     "outputs": [
      {
       "output_type": "stream",
       "stream": "stdout",
       "text": [
        "X   \n",
        "----\n",
        "John\n",
        "Mary\n"
       ]
      }
     ],
     "prompt_number": 39
    },
    {
     "cell_type": "markdown",
     "metadata": {},
     "source": [
      "This makes pyDatalog a great tool to implement recursive algorithms on complex data structures, e.g. representing networks.\n",
      "\n",
      "It's also possible to remove facts:"
     ]
    },
    {
     "cell_type": "code",
     "collapsed": false,
     "input": [
      "# John does not work in Production anymore\n",
      "- works_in('John', 'Production')"
     ],
     "language": "python",
     "metadata": {},
     "outputs": [],
     "prompt_number": 40
    },
    {
     "cell_type": "markdown",
     "metadata": {},
     "source": [
      "Aggregate functions can be defined on literals too :"
     ]
    },
    {
     "cell_type": "code",
     "collapsed": false,
     "input": [
      "(count_of_indirect_reports[X]==len_(Y)) <= indirect_manager(Y,X)\n",
      "print(count_of_indirect_reports['John']==Y)"
     ],
     "language": "python",
     "metadata": {},
     "outputs": [
      {
       "output_type": "stream",
       "stream": "stdout",
       "text": [
        "Y\n",
        "-\n",
        "4\n"
       ]
      }
     ],
     "prompt_number": 41
    },
    {
     "cell_type": "markdown",
     "metadata": {},
     "source": [
      "<h2>8-queen puzzle</h2>\n",
      "\n",
      "By combining what we have seen so far, one can program the solution of complex problems in a declarative way, and let the computer find the procedure to solve them.\n",
      "\n",
      "As an example, let's program an efficient solution to the [8-queen puzzle](https://en.wikipedia.org/wiki/Eight_queens_puzzle).  A shorter solution for any N can be found [here](https://bitbucket.org/pcarbonn/pydatalog/src/d828a7120c9b796ae60f9006a0e3da58940eab37/pyDatalog/examples/queens_N.py?at=default)."
     ]
    },
    {
     "cell_type": "code",
     "collapsed": false,
     "input": [
      "from pyDatalog import pyDatalog\n",
      "pyDatalog.create_terms('N,X0,X1,X2,X3,X4,X5,X6,X7')\n",
      "pyDatalog.create_terms('ok,queens,next_queen')\n",
      "\n",
      "# the queen in the first column can be in any row\n",
      "queens(X0)                      <= (X0._in(range(8)))\n",
      "\n",
      "# to find the queens in the first 2 columns, find the first one first, then find a second one\n",
      "queens(X0,X1)                   <= queens(X0)                   & next_queen(X0,X1)\n",
      "\n",
      "# repeat for the following queens\n",
      "queens(X0,X1,X2)                <= queens(X0,X1)                & next_queen(X0,X1,X2)\n",
      "queens(X0,X1,X2,X3)             <= queens(X0,X1,X2)             & next_queen(X0,X1,X2,X3)\n",
      "queens(X0,X1,X2,X3,X4)          <= queens(X0,X1,X2,X3)          & next_queen(X0,X1,X2,X3,X4)\n",
      "queens(X0,X1,X2,X3,X4,X5)       <= queens(X0,X1,X2,X3,X4)       & next_queen(X0,X1,X2,X3,X4,X5)\n",
      "queens(X0,X1,X2,X3,X4,X5,X6)    <= queens(X0,X1,X2,X3,X4,X5)    & next_queen(X0,X1,X2,X3,X4,X5,X6)\n",
      "queens(X0,X1,X2,X3,X4,X5,X6,X7) <= queens(X0,X1,X2,X3,X4,X5,X6) & next_queen(X0,X1,X2,X3,X4,X5,X6,X7)\n",
      "\n",
      "# the second queen can be in any row, provided it is compatible with the first one\n",
      "next_queen(X0,X1)                   <= queens(X1)                       & ok(X0,1,X1)\n",
      "\n",
      "# to find the third queen, first find a queen compatible with the second one, then with the first\n",
      "# re-use the previous clause for maximum speed, thanks to memoization\n",
      "next_queen(X0,X1,X2)                <= next_queen(X1,X2)                & ok(X0,2,X2)\n",
      "\n",
      "# repeat for all queens\n",
      "next_queen(X0,X1,X2,X3)             <= next_queen(X1,X2,X3)             & ok(X0,3,X3)\n",
      "next_queen(X0,X1,X2,X3,X4)          <= next_queen(X1,X2,X3,X4)          & ok(X0,4,X4)\n",
      "next_queen(X0,X1,X2,X3,X4,X5)       <= next_queen(X1,X2,X3,X4,X5)       & ok(X0,5,X5)\n",
      "next_queen(X0,X1,X2,X3,X4,X5,X6)    <= next_queen(X1,X2,X3,X4,X5,X6)    & ok(X0,6,X6)\n",
      "next_queen(X0,X1,X2,X3,X4,X5,X6,X7) <= next_queen(X1,X2,X3,X4,X5,X6,X7) & ok(X0,7,X7)\n",
      "\n",
      "# it's ok to have one queen in row X1 and another in row X2 if they are separated by N columns\n",
      "ok(X1, N, X2) <= (X1 != X2) & (X1 != X2+N) & (X1 != X2-N)\n",
      "print"
     ],
     "language": "python",
     "metadata": {},
     "outputs": [
      {
       "output_type": "stream",
       "stream": "stdout",
       "text": [
        "\n"
       ]
      }
     ],
     "prompt_number": 42
    },
    {
     "cell_type": "code",
     "collapsed": false,
     "input": [
      "# give me one solution to the 8-queen puzzle\n",
      "print(queens(X0,X1,X2,X3,X4,X5,X6,X7).data[0])"
     ],
     "language": "python",
     "metadata": {},
     "outputs": [
      {
       "output_type": "stream",
       "stream": "stdout",
       "text": [
        "(7, 3, 0, 2, 5, 1, 6, 4)\n"
       ]
      }
     ],
     "prompt_number": 43
    }
   ],
   "metadata": {}
  }
 ]
}